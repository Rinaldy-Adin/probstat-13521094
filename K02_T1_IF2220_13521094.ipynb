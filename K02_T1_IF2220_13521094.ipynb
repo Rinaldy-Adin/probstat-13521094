{
  "cells": [
    {
      "cell_type": "code",
      "execution_count": 2,
      "metadata": {
        "colab": {
          "base_uri": "https://localhost:8080/",
          "height": 267
        },
        "id": "Td_X9vgq8ojf",
        "outputId": "4721bdbf-b7b6-47b8-9de2-167542826eb5"
      },
      "outputs": [
        {
          "data": {
            "text/html": [
              "<div>\n",
              "<style scoped>\n",
              "    .dataframe tbody tr th:only-of-type {\n",
              "        vertical-align: middle;\n",
              "    }\n",
              "\n",
              "    .dataframe tbody tr th {\n",
              "        vertical-align: top;\n",
              "    }\n",
              "\n",
              "    .dataframe thead th {\n",
              "        text-align: right;\n",
              "    }\n",
              "</style>\n",
              "<table border=\"1\" class=\"dataframe\">\n",
              "  <thead>\n",
              "    <tr style=\"text-align: right;\">\n",
              "      <th></th>\n",
              "      <th>fixed acidity</th>\n",
              "      <th>volatile acidity</th>\n",
              "      <th>citric acid</th>\n",
              "      <th>residual sugar</th>\n",
              "      <th>chlorides</th>\n",
              "      <th>free sulfur dioxide</th>\n",
              "      <th>total sulfur dioxide</th>\n",
              "      <th>density</th>\n",
              "      <th>pH</th>\n",
              "      <th>sulphates</th>\n",
              "      <th>alcohol</th>\n",
              "      <th>quality</th>\n",
              "    </tr>\n",
              "  </thead>\n",
              "  <tbody>\n",
              "    <tr>\n",
              "      <th>0</th>\n",
              "      <td>5.90</td>\n",
              "      <td>0.4451</td>\n",
              "      <td>0.1813</td>\n",
              "      <td>2.049401</td>\n",
              "      <td>0.070574</td>\n",
              "      <td>16.593818</td>\n",
              "      <td>42.27</td>\n",
              "      <td>0.9982</td>\n",
              "      <td>3.27</td>\n",
              "      <td>0.71</td>\n",
              "      <td>8.64</td>\n",
              "      <td>7</td>\n",
              "    </tr>\n",
              "    <tr>\n",
              "      <th>1</th>\n",
              "      <td>8.40</td>\n",
              "      <td>0.5768</td>\n",
              "      <td>0.2099</td>\n",
              "      <td>3.109590</td>\n",
              "      <td>0.101681</td>\n",
              "      <td>22.555519</td>\n",
              "      <td>16.01</td>\n",
              "      <td>0.9960</td>\n",
              "      <td>3.35</td>\n",
              "      <td>0.57</td>\n",
              "      <td>10.03</td>\n",
              "      <td>8</td>\n",
              "    </tr>\n",
              "    <tr>\n",
              "      <th>2</th>\n",
              "      <td>7.54</td>\n",
              "      <td>0.5918</td>\n",
              "      <td>0.3248</td>\n",
              "      <td>3.673744</td>\n",
              "      <td>0.072416</td>\n",
              "      <td>9.316866</td>\n",
              "      <td>35.52</td>\n",
              "      <td>0.9990</td>\n",
              "      <td>3.31</td>\n",
              "      <td>0.64</td>\n",
              "      <td>9.23</td>\n",
              "      <td>8</td>\n",
              "    </tr>\n",
              "    <tr>\n",
              "      <th>3</th>\n",
              "      <td>5.39</td>\n",
              "      <td>0.4201</td>\n",
              "      <td>0.3131</td>\n",
              "      <td>3.371815</td>\n",
              "      <td>0.072755</td>\n",
              "      <td>18.212300</td>\n",
              "      <td>41.97</td>\n",
              "      <td>0.9945</td>\n",
              "      <td>3.34</td>\n",
              "      <td>0.55</td>\n",
              "      <td>14.07</td>\n",
              "      <td>9</td>\n",
              "    </tr>\n",
              "    <tr>\n",
              "      <th>4</th>\n",
              "      <td>6.51</td>\n",
              "      <td>0.5675</td>\n",
              "      <td>0.1940</td>\n",
              "      <td>4.404723</td>\n",
              "      <td>0.066379</td>\n",
              "      <td>9.360591</td>\n",
              "      <td>46.27</td>\n",
              "      <td>0.9925</td>\n",
              "      <td>3.27</td>\n",
              "      <td>0.45</td>\n",
              "      <td>11.49</td>\n",
              "      <td>8</td>\n",
              "    </tr>\n",
              "  </tbody>\n",
              "</table>\n",
              "</div>"
            ],
            "text/plain": [
              "   fixed acidity  volatile acidity  citric acid  residual sugar  chlorides  \\\n",
              "0           5.90            0.4451       0.1813        2.049401   0.070574   \n",
              "1           8.40            0.5768       0.2099        3.109590   0.101681   \n",
              "2           7.54            0.5918       0.3248        3.673744   0.072416   \n",
              "3           5.39            0.4201       0.3131        3.371815   0.072755   \n",
              "4           6.51            0.5675       0.1940        4.404723   0.066379   \n",
              "\n",
              "   free sulfur dioxide  total sulfur dioxide  density    pH  sulphates  \\\n",
              "0            16.593818                 42.27   0.9982  3.27       0.71   \n",
              "1            22.555519                 16.01   0.9960  3.35       0.57   \n",
              "2             9.316866                 35.52   0.9990  3.31       0.64   \n",
              "3            18.212300                 41.97   0.9945  3.34       0.55   \n",
              "4             9.360591                 46.27   0.9925  3.27       0.45   \n",
              "\n",
              "   alcohol  quality  \n",
              "0     8.64        7  \n",
              "1    10.03        8  \n",
              "2     9.23        8  \n",
              "3    14.07        9  \n",
              "4    11.49        8  "
            ]
          },
          "execution_count": 2,
          "metadata": {},
          "output_type": "execute_result"
        }
      ],
      "source": [
        "from numpy import sqrt\n",
        "import pandas as pd\n",
        "from IPython.display import Markdown, display\n",
        "import scipy.stats as st\n",
        "\n",
        "df = pd.read_csv('anggur.csv')\n",
        "df.head()"
      ]
    },
    {
      "cell_type": "markdown",
      "metadata": {
        "id": "5h2mCJJywLAr"
      },
      "source": [
        "## 4. Melakukan test hipotesis 1 sampel"
      ]
    },
    {
      "cell_type": "markdown",
      "metadata": {
        "id": "06ZgmM1dwjZx"
      },
      "source": [
        "### a. Nilai rata-rata pH di atas 3.29?"
      ]
    },
    {
      "attachments": {},
      "cell_type": "markdown",
      "metadata": {
        "id": "tZbsdvipwtkm"
      },
      "source": [
        "1. $H_0$: $μ = 3.29$\n",
        "2. $H_1$: $μ > 3.29$\n",
        "3. $α = 0.05$\n",
        "4. Uji statistik: \n",
        "$$z = \\frac{\\bar{x} - μ_0}{σ/\\sqrt{n}} $$\n",
        "&emsp;&emsp; Dengan critical region:\n",
        "$$ z > z_{\\alpha} $$\n",
        "$$ z > 1.645 $$\n",
        "5. Dapat dihitung:"
      ]
    },
    {
      "cell_type": "code",
      "execution_count": 3,
      "metadata": {
        "colab": {
          "base_uri": "https://localhost:8080/",
          "height": 46
        },
        "id": "dbmSCxpK6skB",
        "outputId": "f9fb7544-43a9-4347-ed91-edbba05168cf"
      },
      "outputs": [
        {
          "data": {
            "text/markdown": [
              "Diketahui: <br> $\\bar{x} = 3.30361$ &emsp; $\\mu = 3.29$ <br> $\\sigma = 0.10488$ &emsp; $n = 1000$"
            ],
            "text/plain": [
              "<IPython.core.display.Markdown object>"
            ]
          },
          "metadata": {},
          "output_type": "display_data"
        },
        {
          "data": {
            "text/markdown": [
              "Didapatkan nilai: <br>$z = 4.104 $ <br> $p = 2.032263004325685e-05 $"
            ],
            "text/plain": [
              "<IPython.core.display.Markdown object>"
            ]
          },
          "metadata": {},
          "output_type": "display_data"
        }
      ],
      "source": [
        "x_bar = df['pH'].mean()\n",
        "mu = 3.29\n",
        "sigma = df['pH'].std()\n",
        "n = df['pH'].count()\n",
        "\n",
        "z_value = (x_bar - mu) * (n**(0.5)) / (sigma)\n",
        "p_value = 1 - st.norm.cdf(z_value)\n",
        "\n",
        "display(Markdown(f\"Diketahui: <br> $\\\\bar{{x}} = {x_bar}$ &emsp; $\\\\mu = {mu}$ <br> $\\\\sigma = {sigma:.5f}$ &emsp; $n = {n}$\"))\n",
        "display(Markdown(f\"Didapatkan nilai: <br>$z = {z_value:.3f} $ <br> $p = {p_value} $\"))"
      ]
    },
    {
      "attachments": {},
      "cell_type": "markdown",
      "metadata": {},
      "source": [
        "6. Karena $z = 4.104 > z_{\\alpha/2}$, $z$ berada di critical section sehingga <u>hipotesis $H_0$ ditolak</u>. \n",
        "<br> Dengan tes signifikan, disimpulkan bahwa <u>hipotesis $H_0$ ditolak</u> karena <i>p-value</i> lebih kecil dari nilai signifikan yang ditetapkan ($p < 0.05$).\n",
        "<br> Dapat disimpulkan bahwa rata-rata pH lebih besar dari 3.29."
      ]
    },
    {
      "attachments": {},
      "cell_type": "markdown",
      "metadata": {},
      "source": [
        "### b. Nilai rata-rata Residual Sugar tidak sama dengan 2.50?"
      ]
    },
    {
      "attachments": {},
      "cell_type": "markdown",
      "metadata": {},
      "source": [
        "1. $H_0$: $μ = 2.50$\n",
        "2. $H_1$: $μ \\neq 2.50$ &emsp; ($\\mu < 2.50$ atau    $\\mu > 2.50$)\n",
        "3. $α = 0.05$\n",
        "4. Uji statistik: \n",
        "$$z = \\frac{\\bar{x} - μ_0}{σ/\\sqrt{n}} $$\n",
        "&emsp;&emsp; Dengan critical region:\n",
        "$$ z < -z_{\\alpha/2} \\quad atau \\quad z > z_{\\alpha/2} $$\n",
        "$$ z < -1.96 \\quad atau \\quad z > 1.96 $$\n",
        "5. Dapat dihitung:"
      ]
    },
    {
      "cell_type": "code",
      "execution_count": 4,
      "metadata": {},
      "outputs": [
        {
          "data": {
            "text/markdown": [
              "Diketahui: <br> $\\bar{x} = 2.5671036825069997$ &emsp; $\\mu = 2.5$ <br> $\\sigma = 0.98792$ &emsp; $n = 1000$"
            ],
            "text/plain": [
              "<IPython.core.display.Markdown object>"
            ]
          },
          "metadata": {},
          "output_type": "display_data"
        },
        {
          "data": {
            "text/markdown": [
              "Didapatkan nilai: <br>$z = 2.148 $ <br> $p = 0.03171677881789692 $"
            ],
            "text/plain": [
              "<IPython.core.display.Markdown object>"
            ]
          },
          "metadata": {},
          "output_type": "display_data"
        }
      ],
      "source": [
        "x_bar = df['residual sugar'].mean()\n",
        "mu = 2.5\n",
        "sigma = df['residual sugar'].std()\n",
        "n = df['residual sugar'].count()\n",
        "\n",
        "z_value = (x_bar - mu) * (n**(0.5)) / (sigma)\n",
        "p_value = 2*(1 - st.norm.cdf(z_value))\n",
        "\n",
        "display(Markdown(f\"Diketahui: <br> $\\\\bar{{x}} = {x_bar}$ &emsp; $\\\\mu = {mu}$ <br> $\\\\sigma = {sigma:.5f}$ &emsp; $n = {n}$\"))\n",
        "display(Markdown(f\"Didapatkan nilai: <br>$z = {z_value:.3f} $ <br> $p = {p_value} $\"))"
      ]
    },
    {
      "attachments": {},
      "cell_type": "markdown",
      "metadata": {},
      "source": [
        "6. Karena $z = 2.148 > z_{\\alpha/2}$, $z$ berada di critical section sehingga <u>hipotesis $H_0$ ditolak</u>. \n",
        "<br> Dengan tes signifikan, disimpulkan bahwa <u>hipotesis $H_0$ ditolak</u> karena <i>p-value</i> lebih kecil dari nilai signifikan yang ditetapkan ($p < 0.05$).\n",
        "<br> Dapat disimpulkan bahwa nilai residual sugar tidak sama dengan 2.148."
      ]
    },
    {
      "attachments": {},
      "cell_type": "markdown",
      "metadata": {},
      "source": [
        "### c. Nilai rata-rata 150 baris pertama kolom sulphates bukan 0.65?"
      ]
    },
    {
      "attachments": {},
      "cell_type": "markdown",
      "metadata": {},
      "source": [
        "1. $H_0$: $μ = 0.65$\n",
        "2. $H_1$: $μ \\neq 0.65$ &emsp; ($\\mu < 0.65$ atau    $\\mu > 0.65$)\n",
        "3. $α = 0.05$\n",
        "4. Uji statistik: \n",
        "$$z = \\frac{\\bar{x} - μ_0}{σ/\\sqrt{n}} $$\n",
        "&emsp;&emsp; Dengan critical region:\n",
        "$$ z < -z_{\\alpha/2} \\quad atau \\quad z > z_{\\alpha/2} $$\n",
        "$$ z < -1.96 \\quad atau \\quad z > 1.96 $$\n",
        "5. Dapat dihitung:"
      ]
    },
    {
      "cell_type": "code",
      "execution_count": 5,
      "metadata": {},
      "outputs": [
        {
          "data": {
            "text/markdown": [
              "Diketahui: <br> $\\bar{x} = 0.6064900662251657$ &emsp; $\\mu = 0.65$ <br> $\\sigma = 0.10878$ &emsp; $n = 151$"
            ],
            "text/plain": [
              "<IPython.core.display.Markdown object>"
            ]
          },
          "metadata": {},
          "output_type": "display_data"
        },
        {
          "data": {
            "text/markdown": [
              "Didapatkan nilai: <br>$z = -4.915 $ <br> $p = 8.868285241714347e-07 $"
            ],
            "text/plain": [
              "<IPython.core.display.Markdown object>"
            ]
          },
          "metadata": {},
          "output_type": "display_data"
        }
      ],
      "source": [
        "x_bar = df.loc[:150, 'sulphates'].mean()\n",
        "mu = 0.65\n",
        "sigma = df.loc[:150, 'sulphates'].std()\n",
        "n = df.loc[:150, 'sulphates'].count()\n",
        "\n",
        "z_value = (x_bar - mu) * (n**(0.5)) / (sigma)\n",
        "p_value = 2*(1 - st.norm.cdf(abs(z_value)))\n",
        "\n",
        "display(Markdown(f\"Diketahui: <br> $\\\\bar{{x}} = {x_bar}$ &emsp; $\\\\mu = {mu}$ <br> $\\\\sigma = {sigma:.5f}$ &emsp; $n = {n}$\"))\n",
        "display(Markdown(f\"Didapatkan nilai: <br>$z = {z_value:.3f} $ <br> $p = {p_value} $\"))"
      ]
    },
    {
      "attachments": {},
      "cell_type": "markdown",
      "metadata": {},
      "source": [
        "6. Karena $z = -4.915 < z_{\\alpha/2}$, $z$ berada di critical section sehingga <u>hipotesis $H_0$ ditolak</u>. \n",
        "<br> Dengan tes signifikan, disimpulkan bahwa <u>hipotesis $H_0$ ditolak</u> karena <i>p-value</i> lebih kecil dari nilai signifikan yang ditetapkan ($p < 0.05$).\n",
        "<br> Dapat disimpulkan bahwa nilai rata-rata 150 baris pertama kolom sulphates bukan 0.65."
      ]
    },
    {
      "attachments": {},
      "cell_type": "markdown",
      "metadata": {},
      "source": [
        "### d. Nilai rata-rata total sulfur dioxide di bawah 35?"
      ]
    },
    {
      "attachments": {},
      "cell_type": "markdown",
      "metadata": {},
      "source": [
        "1. $H_0$: $μ = 35$\n",
        "2. $H_1$: $\\mu < 35$\n",
        "3. $α = 0.05$\n",
        "4. Uji statistik: \n",
        "$$z = \\frac{\\bar{x} - μ_0}{σ/\\sqrt{n}} $$\n",
        "&emsp;&emsp; Dengan critical region:\n",
        "$$ z < -z_{\\alpha}$$\n",
        "$$ z < -1.645$$\n",
        "5. Dapat dihitung:"
      ]
    },
    {
      "cell_type": "code",
      "execution_count": 12,
      "metadata": {},
      "outputs": [
        {
          "data": {
            "text/markdown": [
              "Diketahui: <br> $\\bar{x} = 40.290150000000004$ &emsp; $\\mu = 35$ <br> $\\sigma = 9.96577$ &emsp; $n = 1000$"
            ],
            "text/plain": [
              "<IPython.core.display.Markdown object>"
            ]
          },
          "metadata": {},
          "output_type": "display_data"
        },
        {
          "data": {
            "text/markdown": [
              "Didapatkan nilai: <br>$z = 16.786 $ <br> $p = 1.0 $"
            ],
            "text/plain": [
              "<IPython.core.display.Markdown object>"
            ]
          },
          "metadata": {},
          "output_type": "display_data"
        }
      ],
      "source": [
        "x_bar = df['total sulfur dioxide'].mean()\n",
        "mu = 35\n",
        "sigma = df['total sulfur dioxide'].std()\n",
        "n = df['total sulfur dioxide'].count()\n",
        "\n",
        "z_value = (x_bar - mu) * (n**(0.5)) / (sigma)\n",
        "p_value = st.norm.cdf(z_value)\n",
        "\n",
        "display(Markdown(f\"Diketahui: <br> $\\\\bar{{x}} = {x_bar}$ &emsp; $\\\\mu = {mu}$ <br> $\\\\sigma = {sigma:.5f}$ &emsp; $n = {n}$\"))\n",
        "display(Markdown(f\"Didapatkan nilai: <br>$z = {z_value:.3f} $ <br> $p = {p_value} $\"))"
      ]
    },
    {
      "attachments": {},
      "cell_type": "markdown",
      "metadata": {},
      "source": [
        "6. Karena $z = 16.915 > z_{\\alpha}$, $z$ tidak berada di critical section sehingga <u>hipotesis $H_0$ tidak ditolak</u>. \n",
        "<br> Dengan tes signifikan, disimpulkan juga bahwa <u>hipotesis $H_0$ tidak ditolak</u> karena <i>p-value</i> lebih besar dari nilai signifikan yang ditetapkan ($p > 0.05$).\n",
        "<br> Tidak dapat disimpulkan bahwa nilai rata-rata total sulfur dioxide di bawah 35."
      ]
    },
    {
      "attachments": {},
      "cell_type": "markdown",
      "metadata": {},
      "source": [
        "### e. Proporsi nilai total Sulfat Dioxide yang lebih dari 40, adalah tidak sama dengan 50%?"
      ]
    },
    {
      "attachments": {},
      "cell_type": "markdown",
      "metadata": {},
      "source": [
        "1. $H_0$: $p = 0.5$\n",
        "2. $H_1$: $p \\neq 0.5$ &emsp; ($p < 0.5$ atau    $p > 0.5$)\n",
        "3. $α = 0.05$\n",
        "4. Uji statistik: \n",
        "$$z = \\frac{\\hat{p} - p_0}{\\sqrt{p_0q_0/n}} $$\n",
        "&emsp;&emsp; Dengan critical region:\n",
        "$$ z < -z_{\\alpha/2} \\quad atau \\quad z > z_{\\alpha/2} $$\n",
        "$$ z < -1.96 \\quad atau \\quad z > 1.96 $$\n",
        "5. Dapat dihitung:"
      ]
    },
    {
      "cell_type": "code",
      "execution_count": 24,
      "metadata": {},
      "outputs": [
        {
          "data": {
            "text/markdown": [
              "Diketahui: <br> $p_0 = 0.5$ $&emsp; $q_0 = 0.5$ <br> $n = 1000$ &emsp; $\\hat{p} = 0.512$"
            ],
            "text/plain": [
              "<IPython.core.display.Markdown object>"
            ]
          },
          "metadata": {},
          "output_type": "display_data"
        },
        {
          "data": {
            "text/markdown": [
              "Didapatkan nilai: <br>$z = 0.759 $ <br> $p = 0.4478844782641116 $"
            ],
            "text/plain": [
              "<IPython.core.display.Markdown object>"
            ]
          },
          "metadata": {},
          "output_type": "display_data"
        }
      ],
      "source": [
        "p_0 = 0.5\n",
        "q_0 = 1 - p_0\n",
        "n = df['total sulfur dioxide'].count()\n",
        "p_hat = df.loc[df['total sulfur dioxide'] > 40]['total sulfur dioxide'].count() / n\n",
        "\n",
        "z_value = (p_hat - p_0) * (n ** 0.5) / ((p_0 * q_0) ** 0.5)\n",
        "p_value = 2 * (1 - st.norm.cdf(abs(z_value)))\n",
        "\n",
        "display(Markdown(f\"Diketahui: <br> $p_0 = {p_0}$ $&emsp; $q_0 = {q_0}$ <br> $n = {n}$ &emsp; $\\\\hat{{p}} = {p_hat}$\"))\n",
        "display(Markdown(f\"Didapatkan nilai: <br>$z = {z_value:.3f} $ <br> $p = {p_value} $\"))"
      ]
    },
    {
      "attachments": {},
      "cell_type": "markdown",
      "metadata": {},
      "source": [
        "6. Karena $-z_{\\alpha/2} < z = 0.759 < z_{\\alpha/2}$, $z$ tidak berada di critical section sehingga <u>hipotesis $H_0$ tidak ditolak</u>. \n",
        "<br> Dengan tes signifikan, disimpulkan juga bahwa <u>hipotesis $H_0$ tidak ditolak</u> karena <i>p-value</i> lebih besar dari nilai signifikan yang ditetapkan ($p > 0.05$).\n",
        "<br> Tidak dapat disimpulkan bahwa proporsi nilai total Sulfat Dioxide yang lebih dari 40, adalah tidak sama dengan 50%."
      ]
    }
  ],
  "metadata": {
    "colab": {
      "provenance": []
    },
    "kernelspec": {
      "display_name": "Python 3",
      "name": "python3"
    },
    "language_info": {
      "codemirror_mode": {
        "name": "ipython",
        "version": 3
      },
      "file_extension": ".py",
      "mimetype": "text/x-python",
      "name": "python",
      "nbconvert_exporter": "python",
      "pygments_lexer": "ipython3",
      "version": "3.10.8"
    }
  },
  "nbformat": 4,
  "nbformat_minor": 0
}
