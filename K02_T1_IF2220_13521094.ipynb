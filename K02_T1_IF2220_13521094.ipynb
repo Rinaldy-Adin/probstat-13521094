{
  "cells": [
    {
      "cell_type": "code",
      "execution_count": 2,
      "metadata": {
        "colab": {
          "base_uri": "https://localhost:8080/",
          "height": 267
        },
        "id": "Td_X9vgq8ojf",
        "outputId": "4721bdbf-b7b6-47b8-9de2-167542826eb5"
      },
      "outputs": [
        {
          "data": {
            "text/html": [
              "<div>\n",
              "<style scoped>\n",
              "    .dataframe tbody tr th:only-of-type {\n",
              "        vertical-align: middle;\n",
              "    }\n",
              "\n",
              "    .dataframe tbody tr th {\n",
              "        vertical-align: top;\n",
              "    }\n",
              "\n",
              "    .dataframe thead th {\n",
              "        text-align: right;\n",
              "    }\n",
              "</style>\n",
              "<table border=\"1\" class=\"dataframe\">\n",
              "  <thead>\n",
              "    <tr style=\"text-align: right;\">\n",
              "      <th></th>\n",
              "      <th>fixed acidity</th>\n",
              "      <th>volatile acidity</th>\n",
              "      <th>citric acid</th>\n",
              "      <th>residual sugar</th>\n",
              "      <th>chlorides</th>\n",
              "      <th>free sulfur dioxide</th>\n",
              "      <th>total sulfur dioxide</th>\n",
              "      <th>density</th>\n",
              "      <th>pH</th>\n",
              "      <th>sulphates</th>\n",
              "      <th>alcohol</th>\n",
              "      <th>quality</th>\n",
              "    </tr>\n",
              "  </thead>\n",
              "  <tbody>\n",
              "    <tr>\n",
              "      <th>0</th>\n",
              "      <td>5.90</td>\n",
              "      <td>0.4451</td>\n",
              "      <td>0.1813</td>\n",
              "      <td>2.049401</td>\n",
              "      <td>0.070574</td>\n",
              "      <td>16.593818</td>\n",
              "      <td>42.27</td>\n",
              "      <td>0.9982</td>\n",
              "      <td>3.27</td>\n",
              "      <td>0.71</td>\n",
              "      <td>8.64</td>\n",
              "      <td>7</td>\n",
              "    </tr>\n",
              "    <tr>\n",
              "      <th>1</th>\n",
              "      <td>8.40</td>\n",
              "      <td>0.5768</td>\n",
              "      <td>0.2099</td>\n",
              "      <td>3.109590</td>\n",
              "      <td>0.101681</td>\n",
              "      <td>22.555519</td>\n",
              "      <td>16.01</td>\n",
              "      <td>0.9960</td>\n",
              "      <td>3.35</td>\n",
              "      <td>0.57</td>\n",
              "      <td>10.03</td>\n",
              "      <td>8</td>\n",
              "    </tr>\n",
              "    <tr>\n",
              "      <th>2</th>\n",
              "      <td>7.54</td>\n",
              "      <td>0.5918</td>\n",
              "      <td>0.3248</td>\n",
              "      <td>3.673744</td>\n",
              "      <td>0.072416</td>\n",
              "      <td>9.316866</td>\n",
              "      <td>35.52</td>\n",
              "      <td>0.9990</td>\n",
              "      <td>3.31</td>\n",
              "      <td>0.64</td>\n",
              "      <td>9.23</td>\n",
              "      <td>8</td>\n",
              "    </tr>\n",
              "    <tr>\n",
              "      <th>3</th>\n",
              "      <td>5.39</td>\n",
              "      <td>0.4201</td>\n",
              "      <td>0.3131</td>\n",
              "      <td>3.371815</td>\n",
              "      <td>0.072755</td>\n",
              "      <td>18.212300</td>\n",
              "      <td>41.97</td>\n",
              "      <td>0.9945</td>\n",
              "      <td>3.34</td>\n",
              "      <td>0.55</td>\n",
              "      <td>14.07</td>\n",
              "      <td>9</td>\n",
              "    </tr>\n",
              "    <tr>\n",
              "      <th>4</th>\n",
              "      <td>6.51</td>\n",
              "      <td>0.5675</td>\n",
              "      <td>0.1940</td>\n",
              "      <td>4.404723</td>\n",
              "      <td>0.066379</td>\n",
              "      <td>9.360591</td>\n",
              "      <td>46.27</td>\n",
              "      <td>0.9925</td>\n",
              "      <td>3.27</td>\n",
              "      <td>0.45</td>\n",
              "      <td>11.49</td>\n",
              "      <td>8</td>\n",
              "    </tr>\n",
              "  </tbody>\n",
              "</table>\n",
              "</div>"
            ],
            "text/plain": [
              "   fixed acidity  volatile acidity  citric acid  residual sugar  chlorides  \\\n",
              "0           5.90            0.4451       0.1813        2.049401   0.070574   \n",
              "1           8.40            0.5768       0.2099        3.109590   0.101681   \n",
              "2           7.54            0.5918       0.3248        3.673744   0.072416   \n",
              "3           5.39            0.4201       0.3131        3.371815   0.072755   \n",
              "4           6.51            0.5675       0.1940        4.404723   0.066379   \n",
              "\n",
              "   free sulfur dioxide  total sulfur dioxide  density    pH  sulphates  \\\n",
              "0            16.593818                 42.27   0.9982  3.27       0.71   \n",
              "1            22.555519                 16.01   0.9960  3.35       0.57   \n",
              "2             9.316866                 35.52   0.9990  3.31       0.64   \n",
              "3            18.212300                 41.97   0.9945  3.34       0.55   \n",
              "4             9.360591                 46.27   0.9925  3.27       0.45   \n",
              "\n",
              "   alcohol  quality  \n",
              "0     8.64        7  \n",
              "1    10.03        8  \n",
              "2     9.23        8  \n",
              "3    14.07        9  \n",
              "4    11.49        8  "
            ]
          },
          "execution_count": 2,
          "metadata": {},
          "output_type": "execute_result"
        }
      ],
      "source": [
        "from numpy import sqrt\n",
        "import pandas as pd\n",
        "from IPython.display import Markdown, display\n",
        "import scipy.stats as st\n",
        "\n",
        "df = pd.read_csv('anggur.csv')\n",
        "df.head()"
      ]
    },
    {
      "attachments": {},
      "cell_type": "markdown",
      "metadata": {},
      "source": [
        "## 1. Menulis deskripsi statistika (Descriptive Statistics) dari semua kolom pada data yang bersifat numerik, terdiri dari mean, median, modus, standar deviasi, variansi, range, nilai minimum, maksimum, kuartil, IQR, skewness dan kurtosis.\n"
      ]
    },
    {
      "cell_type": "code",
      "execution_count": 3,
      "metadata": {},
      "outputs": [
        {
          "name": "stdout",
          "output_type": "stream",
          "text": [
            "<class 'pandas.core.frame.DataFrame'>\n",
            "RangeIndex: 1000 entries, 0 to 999\n",
            "Data columns (total 12 columns):\n",
            " #   Column                Non-Null Count  Dtype  \n",
            "---  ------                --------------  -----  \n",
            " 0   fixed acidity         1000 non-null   float64\n",
            " 1   volatile acidity      1000 non-null   float64\n",
            " 2   citric acid           1000 non-null   float64\n",
            " 3   residual sugar        1000 non-null   float64\n",
            " 4   chlorides             1000 non-null   float64\n",
            " 5   free sulfur dioxide   1000 non-null   float64\n",
            " 6   total sulfur dioxide  1000 non-null   float64\n",
            " 7   density               1000 non-null   float64\n",
            " 8   pH                    1000 non-null   float64\n",
            " 9   sulphates             1000 non-null   float64\n",
            " 10  alcohol               1000 non-null   float64\n",
            " 11  quality               1000 non-null   int64  \n",
            "dtypes: float64(11), int64(1)\n",
            "memory usage: 93.9 KB\n"
          ]
        }
      ],
      "source": [
        "df.info()"
      ]
    },
    {
      "attachments": {},
      "cell_type": "markdown",
      "metadata": {},
      "source": [
        "#### Semua kolom data anggur sudah bersifat numerik"
      ]
    },
    {
      "cell_type": "code",
      "execution_count": 37,
      "metadata": {},
      "outputs": [
        {
          "data": {
            "text/html": [
              "<div>\n",
              "<style scoped>\n",
              "    .dataframe tbody tr th:only-of-type {\n",
              "        vertical-align: middle;\n",
              "    }\n",
              "\n",
              "    .dataframe tbody tr th {\n",
              "        vertical-align: top;\n",
              "    }\n",
              "\n",
              "    .dataframe thead th {\n",
              "        text-align: right;\n",
              "    }\n",
              "</style>\n",
              "<table border=\"1\" class=\"dataframe\">\n",
              "  <thead>\n",
              "    <tr style=\"text-align: right;\">\n",
              "      <th></th>\n",
              "      <th>fixed acidity</th>\n",
              "      <th>volatile acidity</th>\n",
              "      <th>citric acid</th>\n",
              "      <th>residual sugar</th>\n",
              "      <th>chlorides</th>\n",
              "      <th>free sulfur dioxide</th>\n",
              "      <th>total sulfur dioxide</th>\n",
              "      <th>density</th>\n",
              "      <th>pH</th>\n",
              "      <th>sulphates</th>\n",
              "      <th>alcohol</th>\n",
              "      <th>quality</th>\n",
              "    </tr>\n",
              "  </thead>\n",
              "  <tbody>\n",
              "    <tr>\n",
              "      <th>Mean</th>\n",
              "      <td>7.152530</td>\n",
              "      <td>0.520839</td>\n",
              "      <td>0.270517</td>\n",
              "      <td>2.567104</td>\n",
              "      <td>0.081195</td>\n",
              "      <td>14.907679</td>\n",
              "      <td>40.290150</td>\n",
              "      <td>0.995925</td>\n",
              "      <td>3.303610</td>\n",
              "      <td>0.598390</td>\n",
              "      <td>10.592280</td>\n",
              "      <td>7.958000</td>\n",
              "    </tr>\n",
              "    <tr>\n",
              "      <th>Median</th>\n",
              "      <td>7.150000</td>\n",
              "      <td>0.524850</td>\n",
              "      <td>0.272200</td>\n",
              "      <td>2.519430</td>\n",
              "      <td>0.082167</td>\n",
              "      <td>14.860346</td>\n",
              "      <td>40.190000</td>\n",
              "      <td>0.996000</td>\n",
              "      <td>3.300000</td>\n",
              "      <td>0.595000</td>\n",
              "      <td>10.610000</td>\n",
              "      <td>8.000000</td>\n",
              "    </tr>\n",
              "    <tr>\n",
              "      <th>Modus</th>\n",
              "      <td>6.540000</td>\n",
              "      <td>0.554600</td>\n",
              "      <td>0.301900</td>\n",
              "      <td>0.032555</td>\n",
              "      <td>0.015122</td>\n",
              "      <td>0.194679</td>\n",
              "      <td>35.200000</td>\n",
              "      <td>0.995900</td>\n",
              "      <td>3.340000</td>\n",
              "      <td>0.590000</td>\n",
              "      <td>9.860000</td>\n",
              "      <td>8.000000</td>\n",
              "    </tr>\n",
              "    <tr>\n",
              "      <th>Std. Deviation</th>\n",
              "      <td>1.201598</td>\n",
              "      <td>0.095848</td>\n",
              "      <td>0.049098</td>\n",
              "      <td>0.987915</td>\n",
              "      <td>0.020111</td>\n",
              "      <td>4.888100</td>\n",
              "      <td>9.965767</td>\n",
              "      <td>0.002020</td>\n",
              "      <td>0.104875</td>\n",
              "      <td>0.100819</td>\n",
              "      <td>1.510706</td>\n",
              "      <td>0.902802</td>\n",
              "    </tr>\n",
              "    <tr>\n",
              "      <th>Variance</th>\n",
              "      <td>1.443837</td>\n",
              "      <td>0.009187</td>\n",
              "      <td>0.002411</td>\n",
              "      <td>0.975977</td>\n",
              "      <td>0.000404</td>\n",
              "      <td>23.893519</td>\n",
              "      <td>99.316519</td>\n",
              "      <td>0.000004</td>\n",
              "      <td>0.010999</td>\n",
              "      <td>0.010164</td>\n",
              "      <td>2.282233</td>\n",
              "      <td>0.815051</td>\n",
              "    </tr>\n",
              "    <tr>\n",
              "      <th>Minimum</th>\n",
              "      <td>3.320000</td>\n",
              "      <td>0.139900</td>\n",
              "      <td>0.116700</td>\n",
              "      <td>0.032555</td>\n",
              "      <td>0.015122</td>\n",
              "      <td>0.194679</td>\n",
              "      <td>3.150000</td>\n",
              "      <td>0.988800</td>\n",
              "      <td>2.970000</td>\n",
              "      <td>0.290000</td>\n",
              "      <td>6.030000</td>\n",
              "      <td>5.000000</td>\n",
              "    </tr>\n",
              "    <tr>\n",
              "      <th>Q1</th>\n",
              "      <td>6.377500</td>\n",
              "      <td>0.456100</td>\n",
              "      <td>0.237800</td>\n",
              "      <td>1.896330</td>\n",
              "      <td>0.066574</td>\n",
              "      <td>11.426717</td>\n",
              "      <td>33.785000</td>\n",
              "      <td>0.994600</td>\n",
              "      <td>3.230000</td>\n",
              "      <td>0.530000</td>\n",
              "      <td>9.560000</td>\n",
              "      <td>7.000000</td>\n",
              "    </tr>\n",
              "    <tr>\n",
              "      <th>Q2</th>\n",
              "      <td>7.150000</td>\n",
              "      <td>0.524850</td>\n",
              "      <td>0.272200</td>\n",
              "      <td>2.519430</td>\n",
              "      <td>0.082167</td>\n",
              "      <td>14.860346</td>\n",
              "      <td>40.190000</td>\n",
              "      <td>0.996000</td>\n",
              "      <td>3.300000</td>\n",
              "      <td>0.595000</td>\n",
              "      <td>10.610000</td>\n",
              "      <td>8.000000</td>\n",
              "    </tr>\n",
              "    <tr>\n",
              "      <th>Q3</th>\n",
              "      <td>8.000000</td>\n",
              "      <td>0.585375</td>\n",
              "      <td>0.302325</td>\n",
              "      <td>3.220873</td>\n",
              "      <td>0.095312</td>\n",
              "      <td>18.313098</td>\n",
              "      <td>47.022500</td>\n",
              "      <td>0.997200</td>\n",
              "      <td>3.370000</td>\n",
              "      <td>0.670000</td>\n",
              "      <td>11.622500</td>\n",
              "      <td>9.000000</td>\n",
              "    </tr>\n",
              "    <tr>\n",
              "      <th>Maximum</th>\n",
              "      <td>11.490000</td>\n",
              "      <td>0.805100</td>\n",
              "      <td>0.409600</td>\n",
              "      <td>5.550755</td>\n",
              "      <td>0.140758</td>\n",
              "      <td>27.462525</td>\n",
              "      <td>69.960000</td>\n",
              "      <td>1.002600</td>\n",
              "      <td>3.710000</td>\n",
              "      <td>0.960000</td>\n",
              "      <td>15.020000</td>\n",
              "      <td>10.000000</td>\n",
              "    </tr>\n",
              "    <tr>\n",
              "      <th>Range</th>\n",
              "      <td>8.170000</td>\n",
              "      <td>0.665200</td>\n",
              "      <td>0.292900</td>\n",
              "      <td>5.518200</td>\n",
              "      <td>0.125635</td>\n",
              "      <td>27.267847</td>\n",
              "      <td>66.810000</td>\n",
              "      <td>0.013800</td>\n",
              "      <td>0.740000</td>\n",
              "      <td>0.670000</td>\n",
              "      <td>8.990000</td>\n",
              "      <td>5.000000</td>\n",
              "    </tr>\n",
              "    <tr>\n",
              "      <th>IQR</th>\n",
              "      <td>1.622500</td>\n",
              "      <td>0.129275</td>\n",
              "      <td>0.064525</td>\n",
              "      <td>1.324544</td>\n",
              "      <td>0.028738</td>\n",
              "      <td>6.886381</td>\n",
              "      <td>13.237500</td>\n",
              "      <td>0.002600</td>\n",
              "      <td>0.140000</td>\n",
              "      <td>0.140000</td>\n",
              "      <td>2.062500</td>\n",
              "      <td>2.000000</td>\n",
              "    </tr>\n",
              "    <tr>\n",
              "      <th>Skewness</th>\n",
              "      <td>-0.028879</td>\n",
              "      <td>-0.197699</td>\n",
              "      <td>-0.045576</td>\n",
              "      <td>0.132638</td>\n",
              "      <td>-0.051319</td>\n",
              "      <td>0.007130</td>\n",
              "      <td>-0.024060</td>\n",
              "      <td>-0.076883</td>\n",
              "      <td>0.147673</td>\n",
              "      <td>0.149199</td>\n",
              "      <td>-0.018991</td>\n",
              "      <td>-0.089054</td>\n",
              "    </tr>\n",
              "    <tr>\n",
              "      <th>Kurtosis</th>\n",
              "      <td>-0.019292</td>\n",
              "      <td>0.161853</td>\n",
              "      <td>-0.104679</td>\n",
              "      <td>-0.042980</td>\n",
              "      <td>-0.246508</td>\n",
              "      <td>-0.364964</td>\n",
              "      <td>0.063950</td>\n",
              "      <td>0.016366</td>\n",
              "      <td>0.080910</td>\n",
              "      <td>0.064819</td>\n",
              "      <td>-0.131732</td>\n",
              "      <td>0.108291</td>\n",
              "    </tr>\n",
              "  </tbody>\n",
              "</table>\n",
              "</div>"
            ],
            "text/plain": [
              "                fixed acidity  volatile acidity  citric acid  residual sugar  \\\n",
              "Mean                 7.152530          0.520839     0.270517        2.567104   \n",
              "Median               7.150000          0.524850     0.272200        2.519430   \n",
              "Modus                6.540000          0.554600     0.301900        0.032555   \n",
              "Std. Deviation       1.201598          0.095848     0.049098        0.987915   \n",
              "Variance             1.443837          0.009187     0.002411        0.975977   \n",
              "Minimum              3.320000          0.139900     0.116700        0.032555   \n",
              "Q1                   6.377500          0.456100     0.237800        1.896330   \n",
              "Q2                   7.150000          0.524850     0.272200        2.519430   \n",
              "Q3                   8.000000          0.585375     0.302325        3.220873   \n",
              "Maximum             11.490000          0.805100     0.409600        5.550755   \n",
              "Range                8.170000          0.665200     0.292900        5.518200   \n",
              "IQR                  1.622500          0.129275     0.064525        1.324544   \n",
              "Skewness            -0.028879         -0.197699    -0.045576        0.132638   \n",
              "Kurtosis            -0.019292          0.161853    -0.104679       -0.042980   \n",
              "\n",
              "                chlorides  free sulfur dioxide  total sulfur dioxide  \\\n",
              "Mean             0.081195            14.907679             40.290150   \n",
              "Median           0.082167            14.860346             40.190000   \n",
              "Modus            0.015122             0.194679             35.200000   \n",
              "Std. Deviation   0.020111             4.888100              9.965767   \n",
              "Variance         0.000404            23.893519             99.316519   \n",
              "Minimum          0.015122             0.194679              3.150000   \n",
              "Q1               0.066574            11.426717             33.785000   \n",
              "Q2               0.082167            14.860346             40.190000   \n",
              "Q3               0.095312            18.313098             47.022500   \n",
              "Maximum          0.140758            27.462525             69.960000   \n",
              "Range            0.125635            27.267847             66.810000   \n",
              "IQR              0.028738             6.886381             13.237500   \n",
              "Skewness        -0.051319             0.007130             -0.024060   \n",
              "Kurtosis        -0.246508            -0.364964              0.063950   \n",
              "\n",
              "                 density        pH  sulphates    alcohol    quality  \n",
              "Mean            0.995925  3.303610   0.598390  10.592280   7.958000  \n",
              "Median          0.996000  3.300000   0.595000  10.610000   8.000000  \n",
              "Modus           0.995900  3.340000   0.590000   9.860000   8.000000  \n",
              "Std. Deviation  0.002020  0.104875   0.100819   1.510706   0.902802  \n",
              "Variance        0.000004  0.010999   0.010164   2.282233   0.815051  \n",
              "Minimum         0.988800  2.970000   0.290000   6.030000   5.000000  \n",
              "Q1              0.994600  3.230000   0.530000   9.560000   7.000000  \n",
              "Q2              0.996000  3.300000   0.595000  10.610000   8.000000  \n",
              "Q3              0.997200  3.370000   0.670000  11.622500   9.000000  \n",
              "Maximum         1.002600  3.710000   0.960000  15.020000  10.000000  \n",
              "Range           0.013800  0.740000   0.670000   8.990000   5.000000  \n",
              "IQR             0.002600  0.140000   0.140000   2.062500   2.000000  \n",
              "Skewness       -0.076883  0.147673   0.149199  -0.018991  -0.089054  \n",
              "Kurtosis        0.016366  0.080910   0.064819  -0.131732   0.108291  "
            ]
          },
          "execution_count": 37,
          "metadata": {},
          "output_type": "execute_result"
        }
      ],
      "source": [
        "desc_stats_df = pd.DataFrame(columns=df.columns)\n",
        "desc_stats_df.loc['Mean'] = df.mean()\n",
        "desc_stats_df.loc['Median'] = df.median()\n",
        "desc_stats_df.loc['Modus'] = df.mode().loc[0]\n",
        "desc_stats_df.loc['Std. Deviation'] = df.std()\n",
        "desc_stats_df.loc['Variance'] = df.var()\n",
        "desc_stats_df.loc['Minimum'] = df.min()\n",
        "desc_stats_df.loc['Q1'] = df.quantile(0.25)\n",
        "desc_stats_df.loc['Q2'] = df.quantile(0.5)\n",
        "desc_stats_df.loc['Q3'] = df.quantile(0.75)\n",
        "desc_stats_df.loc['Maximum'] = df.max()\n",
        "desc_stats_df.loc['Range'] = desc_stats_df.loc['Maximum'] - desc_stats_df.loc['Minimum']\n",
        "desc_stats_df.loc['IQR'] = desc_stats_df.loc['Q3'] - desc_stats_df.loc['Q1']\n",
        "desc_stats_df.loc['Skewness'] = df.skew()\n",
        "desc_stats_df.loc['Kurtosis'] = df.kurtosis()\n",
        "desc_stats_df"
      ]
    },
    {
      "cell_type": "code",
      "execution_count": 47,
      "metadata": {},
      "outputs": [
        {
          "data": {
            "text/markdown": [
              "##### Terdapat beberapa kolom dengan nilai modus yang lebih dari satu:"
            ],
            "text/plain": [
              "<IPython.core.display.Markdown object>"
            ]
          },
          "metadata": {},
          "output_type": "display_data"
        },
        {
          "data": {
            "text/html": [
              "<div>\n",
              "<style scoped>\n",
              "    .dataframe tbody tr th:only-of-type {\n",
              "        vertical-align: middle;\n",
              "    }\n",
              "\n",
              "    .dataframe tbody tr th {\n",
              "        vertical-align: top;\n",
              "    }\n",
              "\n",
              "    .dataframe thead th {\n",
              "        text-align: right;\n",
              "    }\n",
              "</style>\n",
              "<table border=\"1\" class=\"dataframe\">\n",
              "  <thead>\n",
              "    <tr style=\"text-align: right;\">\n",
              "      <th></th>\n",
              "      <th>residual sugar</th>\n",
              "      <th>chlorides</th>\n",
              "      <th>free sulfur dioxide</th>\n",
              "      <th>total sulfur dioxide</th>\n",
              "      <th>density</th>\n",
              "      <th>alcohol</th>\n",
              "    </tr>\n",
              "  </thead>\n",
              "  <tbody>\n",
              "    <tr>\n",
              "      <th>0</th>\n",
              "      <td>0.032555</td>\n",
              "      <td>0.015122</td>\n",
              "      <td>0.194679</td>\n",
              "      <td>35.20</td>\n",
              "      <td>0.9959</td>\n",
              "      <td>9.86</td>\n",
              "    </tr>\n",
              "    <tr>\n",
              "      <th>1</th>\n",
              "      <td>0.033333</td>\n",
              "      <td>0.020794</td>\n",
              "      <td>0.621628</td>\n",
              "      <td>37.25</td>\n",
              "      <td>0.9961</td>\n",
              "      <td>10.31</td>\n",
              "    </tr>\n",
              "    <tr>\n",
              "      <th>2</th>\n",
              "      <td>0.051774</td>\n",
              "      <td>0.024259</td>\n",
              "      <td>0.860177</td>\n",
              "      <td>39.64</td>\n",
              "      <td>0.9965</td>\n",
              "      <td>NaN</td>\n",
              "    </tr>\n",
              "    <tr>\n",
              "      <th>3</th>\n",
              "      <td>0.077156</td>\n",
              "      <td>0.027209</td>\n",
              "      <td>3.032139</td>\n",
              "      <td>40.61</td>\n",
              "      <td>0.9970</td>\n",
              "      <td>NaN</td>\n",
              "    </tr>\n",
              "    <tr>\n",
              "      <th>4</th>\n",
              "      <td>0.084744</td>\n",
              "      <td>0.032111</td>\n",
              "      <td>3.129885</td>\n",
              "      <td>41.05</td>\n",
              "      <td>NaN</td>\n",
              "      <td>NaN</td>\n",
              "    </tr>\n",
              "    <tr>\n",
              "      <th>...</th>\n",
              "      <td>...</td>\n",
              "      <td>...</td>\n",
              "      <td>...</td>\n",
              "      <td>...</td>\n",
              "      <td>...</td>\n",
              "      <td>...</td>\n",
              "    </tr>\n",
              "    <tr>\n",
              "      <th>995</th>\n",
              "      <td>5.210260</td>\n",
              "      <td>0.131425</td>\n",
              "      <td>26.630490</td>\n",
              "      <td>NaN</td>\n",
              "      <td>NaN</td>\n",
              "      <td>NaN</td>\n",
              "    </tr>\n",
              "    <tr>\n",
              "      <th>996</th>\n",
              "      <td>5.217429</td>\n",
              "      <td>0.133656</td>\n",
              "      <td>26.665773</td>\n",
              "      <td>NaN</td>\n",
              "      <td>NaN</td>\n",
              "      <td>NaN</td>\n",
              "    </tr>\n",
              "    <tr>\n",
              "      <th>997</th>\n",
              "      <td>5.252864</td>\n",
              "      <td>0.135368</td>\n",
              "      <td>26.822626</td>\n",
              "      <td>NaN</td>\n",
              "      <td>NaN</td>\n",
              "      <td>NaN</td>\n",
              "    </tr>\n",
              "    <tr>\n",
              "      <th>998</th>\n",
              "      <td>5.299524</td>\n",
              "      <td>0.135790</td>\n",
              "      <td>27.006307</td>\n",
              "      <td>NaN</td>\n",
              "      <td>NaN</td>\n",
              "      <td>NaN</td>\n",
              "    </tr>\n",
              "    <tr>\n",
              "      <th>999</th>\n",
              "      <td>5.550755</td>\n",
              "      <td>0.140758</td>\n",
              "      <td>27.462525</td>\n",
              "      <td>NaN</td>\n",
              "      <td>NaN</td>\n",
              "      <td>NaN</td>\n",
              "    </tr>\n",
              "  </tbody>\n",
              "</table>\n",
              "<p>1000 rows × 6 columns</p>\n",
              "</div>"
            ],
            "text/plain": [
              "     residual sugar  chlorides  free sulfur dioxide  total sulfur dioxide  \\\n",
              "0          0.032555   0.015122             0.194679                 35.20   \n",
              "1          0.033333   0.020794             0.621628                 37.25   \n",
              "2          0.051774   0.024259             0.860177                 39.64   \n",
              "3          0.077156   0.027209             3.032139                 40.61   \n",
              "4          0.084744   0.032111             3.129885                 41.05   \n",
              "..              ...        ...                  ...                   ...   \n",
              "995        5.210260   0.131425            26.630490                   NaN   \n",
              "996        5.217429   0.133656            26.665773                   NaN   \n",
              "997        5.252864   0.135368            26.822626                   NaN   \n",
              "998        5.299524   0.135790            27.006307                   NaN   \n",
              "999        5.550755   0.140758            27.462525                   NaN   \n",
              "\n",
              "     density  alcohol  \n",
              "0     0.9959     9.86  \n",
              "1     0.9961    10.31  \n",
              "2     0.9965      NaN  \n",
              "3     0.9970      NaN  \n",
              "4        NaN      NaN  \n",
              "..       ...      ...  \n",
              "995      NaN      NaN  \n",
              "996      NaN      NaN  \n",
              "997      NaN      NaN  \n",
              "998      NaN      NaN  \n",
              "999      NaN      NaN  \n",
              "\n",
              "[1000 rows x 6 columns]"
            ]
          },
          "metadata": {},
          "output_type": "display_data"
        }
      ],
      "source": [
        "display(Markdown(\"##### Terdapat beberapa kolom dengan nilai modus yang lebih dari satu:\"))\n",
        "\n",
        "multi_modus = df.mode()\n",
        "multi_modus = multi_modus.loc[:, pd.notna(multi_modus.loc[1])]\n",
        "display(multi_modus)"
      ]
    },
    {
      "cell_type": "markdown",
      "metadata": {
        "id": "5h2mCJJywLAr"
      },
      "source": [
        "## 4. Melakukan test hipotesis 1 sampel"
      ]
    },
    {
      "cell_type": "markdown",
      "metadata": {
        "id": "06ZgmM1dwjZx"
      },
      "source": [
        "### a. Nilai rata-rata pH di atas 3.29?"
      ]
    },
    {
      "attachments": {},
      "cell_type": "markdown",
      "metadata": {
        "id": "tZbsdvipwtkm"
      },
      "source": [
        "1. $H_0$: $μ = 3.29$\n",
        "2. $H_1$: $μ > 3.29$\n",
        "3. $α = 0.05$\n",
        "4. Uji statistik: \n",
        "$$z = \\frac{\\bar{x} - μ_0}{σ/\\sqrt{n}} $$\n",
        "&emsp;&emsp; Dengan critical region:\n",
        "$$ z > z_{\\alpha} $$\n",
        "$$ z > 1.645 $$\n",
        "5. Dapat dihitung:"
      ]
    },
    {
      "cell_type": "code",
      "execution_count": 4,
      "metadata": {
        "colab": {
          "base_uri": "https://localhost:8080/",
          "height": 46
        },
        "id": "dbmSCxpK6skB",
        "outputId": "f9fb7544-43a9-4347-ed91-edbba05168cf"
      },
      "outputs": [
        {
          "data": {
            "text/markdown": [
              "Diketahui: <br> $\\bar{x} = 3.30361$ &emsp; $\\mu = 3.29$ <br> $\\sigma = 0.10488$ &emsp; $n = 1000$"
            ],
            "text/plain": [
              "<IPython.core.display.Markdown object>"
            ]
          },
          "metadata": {},
          "output_type": "display_data"
        },
        {
          "data": {
            "text/markdown": [
              "Didapatkan nilai: <br>$z = 4.104 $ <br> $p = 2.032263004325685e-05 $"
            ],
            "text/plain": [
              "<IPython.core.display.Markdown object>"
            ]
          },
          "metadata": {},
          "output_type": "display_data"
        }
      ],
      "source": [
        "x_bar = df['pH'].mean()\n",
        "mu = 3.29\n",
        "sigma = df['pH'].std()\n",
        "n = df['pH'].count()\n",
        "\n",
        "z_value = (x_bar - mu) * (n**(0.5)) / (sigma)\n",
        "p_value = 1 - st.norm.cdf(z_value)\n",
        "\n",
        "display(Markdown(f\"Diketahui: <br> $\\\\bar{{x}} = {x_bar}$ &emsp; $\\\\mu = {mu}$ <br> $\\\\sigma = {sigma:.5f}$ &emsp; $n = {n}$\"))\n",
        "display(Markdown(f\"Didapatkan nilai: <br>$z = {z_value:.3f} $ <br> $p = {p_value} $\"))"
      ]
    },
    {
      "attachments": {},
      "cell_type": "markdown",
      "metadata": {},
      "source": [
        "6. Karena $z = 4.104 > z_{\\alpha/2}$, $z$ berada di critical section sehingga <u>hipotesis $H_0$ ditolak</u>. \n",
        "<br> Dengan tes signifikan, disimpulkan bahwa <u>hipotesis $H_0$ ditolak</u> karena <i>p-value</i> lebih kecil dari nilai signifikan yang ditetapkan ($p < 0.05$).\n",
        "<br> Dapat disimpulkan bahwa rata-rata pH lebih besar dari 3.29."
      ]
    },
    {
      "attachments": {},
      "cell_type": "markdown",
      "metadata": {},
      "source": [
        "### b. Nilai rata-rata Residual Sugar tidak sama dengan 2.50?"
      ]
    },
    {
      "attachments": {},
      "cell_type": "markdown",
      "metadata": {},
      "source": [
        "1. $H_0$: $μ = 2.50$\n",
        "2. $H_1$: $μ \\neq 2.50$ &emsp; ($\\mu < 2.50$ atau    $\\mu > 2.50$)\n",
        "3. $α = 0.05$\n",
        "4. Uji statistik: \n",
        "$$z = \\frac{\\bar{x} - μ_0}{σ/\\sqrt{n}} $$\n",
        "&emsp;&emsp; Dengan critical region:\n",
        "$$ z < -z_{\\alpha/2} \\quad atau \\quad z > z_{\\alpha/2} $$\n",
        "$$ z < -1.96 \\quad atau \\quad z > 1.96 $$\n",
        "5. Dapat dihitung:"
      ]
    },
    {
      "cell_type": "code",
      "execution_count": 5,
      "metadata": {},
      "outputs": [
        {
          "data": {
            "text/markdown": [
              "Diketahui: <br> $\\bar{x} = 2.5671036825069997$ &emsp; $\\mu = 2.5$ <br> $\\sigma = 0.98792$ &emsp; $n = 1000$"
            ],
            "text/plain": [
              "<IPython.core.display.Markdown object>"
            ]
          },
          "metadata": {},
          "output_type": "display_data"
        },
        {
          "data": {
            "text/markdown": [
              "Didapatkan nilai: <br>$z = 2.148 $ <br> $p = 0.03171677881789692 $"
            ],
            "text/plain": [
              "<IPython.core.display.Markdown object>"
            ]
          },
          "metadata": {},
          "output_type": "display_data"
        }
      ],
      "source": [
        "x_bar = df['residual sugar'].mean()\n",
        "mu = 2.5\n",
        "sigma = df['residual sugar'].std()\n",
        "n = df['residual sugar'].count()\n",
        "\n",
        "z_value = (x_bar - mu) * (n**(0.5)) / (sigma)\n",
        "p_value = 2*(1 - st.norm.cdf(z_value))\n",
        "\n",
        "display(Markdown(f\"Diketahui: <br> $\\\\bar{{x}} = {x_bar}$ &emsp; $\\\\mu = {mu}$ <br> $\\\\sigma = {sigma:.5f}$ &emsp; $n = {n}$\"))\n",
        "display(Markdown(f\"Didapatkan nilai: <br>$z = {z_value:.3f} $ <br> $p = {p_value} $\"))"
      ]
    },
    {
      "attachments": {},
      "cell_type": "markdown",
      "metadata": {},
      "source": [
        "6. Karena $z = 2.148 > z_{\\alpha/2}$, $z$ berada di critical section sehingga <u>hipotesis $H_0$ ditolak</u>. \n",
        "<br> Dengan tes signifikan, disimpulkan bahwa <u>hipotesis $H_0$ ditolak</u> karena <i>p-value</i> lebih kecil dari nilai signifikan yang ditetapkan ($p < 0.05$).\n",
        "<br> Dapat disimpulkan bahwa nilai residual sugar tidak sama dengan 2.148."
      ]
    },
    {
      "attachments": {},
      "cell_type": "markdown",
      "metadata": {},
      "source": [
        "### c. Nilai rata-rata 150 baris pertama kolom sulphates bukan 0.65?"
      ]
    },
    {
      "attachments": {},
      "cell_type": "markdown",
      "metadata": {},
      "source": [
        "1. $H_0$: $μ = 0.65$\n",
        "2. $H_1$: $μ \\neq 0.65$ &emsp; ($\\mu < 0.65$ atau    $\\mu > 0.65$)\n",
        "3. $α = 0.05$\n",
        "4. Uji statistik: \n",
        "$$z = \\frac{\\bar{x} - μ_0}{σ/\\sqrt{n}} $$\n",
        "&emsp;&emsp; Dengan critical region:\n",
        "$$ z < -z_{\\alpha/2} \\quad atau \\quad z > z_{\\alpha/2} $$\n",
        "$$ z < -1.96 \\quad atau \\quad z > 1.96 $$\n",
        "5. Dapat dihitung:"
      ]
    },
    {
      "cell_type": "code",
      "execution_count": 6,
      "metadata": {},
      "outputs": [
        {
          "data": {
            "text/markdown": [
              "Diketahui: <br> $\\bar{x} = 0.6064900662251657$ &emsp; $\\mu = 0.65$ <br> $\\sigma = 0.10878$ &emsp; $n = 151$"
            ],
            "text/plain": [
              "<IPython.core.display.Markdown object>"
            ]
          },
          "metadata": {},
          "output_type": "display_data"
        },
        {
          "data": {
            "text/markdown": [
              "Didapatkan nilai: <br>$z = -4.915 $ <br> $p = 8.868285241714347e-07 $"
            ],
            "text/plain": [
              "<IPython.core.display.Markdown object>"
            ]
          },
          "metadata": {},
          "output_type": "display_data"
        }
      ],
      "source": [
        "x_bar = df.loc[:150, 'sulphates'].mean()\n",
        "mu = 0.65\n",
        "sigma = df.loc[:150, 'sulphates'].std()\n",
        "n = df.loc[:150, 'sulphates'].count()\n",
        "\n",
        "z_value = (x_bar - mu) * (n**(0.5)) / (sigma)\n",
        "p_value = 2*(1 - st.norm.cdf(abs(z_value)))\n",
        "\n",
        "display(Markdown(f\"Diketahui: <br> $\\\\bar{{x}} = {x_bar}$ &emsp; $\\\\mu = {mu}$ <br> $\\\\sigma = {sigma:.5f}$ &emsp; $n = {n}$\"))\n",
        "display(Markdown(f\"Didapatkan nilai: <br>$z = {z_value:.3f} $ <br> $p = {p_value} $\"))"
      ]
    },
    {
      "attachments": {},
      "cell_type": "markdown",
      "metadata": {},
      "source": [
        "6. Karena $z = -4.915 < z_{\\alpha/2}$, $z$ berada di critical section sehingga <u>hipotesis $H_0$ ditolak</u>. \n",
        "<br> Dengan tes signifikan, disimpulkan bahwa <u>hipotesis $H_0$ ditolak</u> karena <i>p-value</i> lebih kecil dari nilai signifikan yang ditetapkan ($p < 0.05$).\n",
        "<br> Dapat disimpulkan bahwa nilai rata-rata 150 baris pertama kolom sulphates bukan 0.65."
      ]
    },
    {
      "attachments": {},
      "cell_type": "markdown",
      "metadata": {},
      "source": [
        "### d. Nilai rata-rata total sulfur dioxide di bawah 35?"
      ]
    },
    {
      "attachments": {},
      "cell_type": "markdown",
      "metadata": {},
      "source": [
        "1. $H_0$: $μ = 35$\n",
        "2. $H_1$: $\\mu < 35$\n",
        "3. $α = 0.05$\n",
        "4. Uji statistik: \n",
        "$$z = \\frac{\\bar{x} - μ_0}{σ/\\sqrt{n}} $$\n",
        "&emsp;&emsp; Dengan critical region:\n",
        "$$ z < -z_{\\alpha}$$\n",
        "$$ z < -1.645$$\n",
        "5. Dapat dihitung:"
      ]
    },
    {
      "cell_type": "code",
      "execution_count": 7,
      "metadata": {},
      "outputs": [
        {
          "data": {
            "text/markdown": [
              "Diketahui: <br> $\\bar{x} = 40.290150000000004$ &emsp; $\\mu = 35$ <br> $\\sigma = 9.96577$ &emsp; $n = 1000$"
            ],
            "text/plain": [
              "<IPython.core.display.Markdown object>"
            ]
          },
          "metadata": {},
          "output_type": "display_data"
        },
        {
          "data": {
            "text/markdown": [
              "Didapatkan nilai: <br>$z = 16.786 $ <br> $p = 1.0 $"
            ],
            "text/plain": [
              "<IPython.core.display.Markdown object>"
            ]
          },
          "metadata": {},
          "output_type": "display_data"
        }
      ],
      "source": [
        "x_bar = df['total sulfur dioxide'].mean()\n",
        "mu = 35\n",
        "sigma = df['total sulfur dioxide'].std()\n",
        "n = df['total sulfur dioxide'].count()\n",
        "\n",
        "z_value = (x_bar - mu) * (n**(0.5)) / (sigma)\n",
        "p_value = st.norm.cdf(z_value)\n",
        "\n",
        "display(Markdown(f\"Diketahui: <br> $\\\\bar{{x}} = {x_bar}$ &emsp; $\\\\mu = {mu}$ <br> $\\\\sigma = {sigma:.5f}$ &emsp; $n = {n}$\"))\n",
        "display(Markdown(f\"Didapatkan nilai: <br>$z = {z_value:.3f} $ <br> $p = {p_value} $\"))"
      ]
    },
    {
      "attachments": {},
      "cell_type": "markdown",
      "metadata": {},
      "source": [
        "6. Karena $z = 16.915 > z_{\\alpha}$, $z$ tidak berada di critical section sehingga <u>hipotesis $H_0$ tidak ditolak</u>. \n",
        "<br> Dengan tes signifikan, disimpulkan juga bahwa <u>hipotesis $H_0$ tidak ditolak</u> karena <i>p-value</i> lebih besar dari nilai signifikan yang ditetapkan ($p > 0.05$).\n",
        "<br> Tidak dapat disimpulkan bahwa nilai rata-rata total sulfur dioxide di bawah 35."
      ]
    },
    {
      "attachments": {},
      "cell_type": "markdown",
      "metadata": {},
      "source": [
        "### e. Proporsi nilai total Sulfat Dioxide yang lebih dari 40, adalah tidak sama dengan 50%?"
      ]
    },
    {
      "attachments": {},
      "cell_type": "markdown",
      "metadata": {},
      "source": [
        "1. $H_0$: $p = 0.5$\n",
        "2. $H_1$: $p \\neq 0.5$ &emsp; ($p < 0.5$ atau    $p > 0.5$)\n",
        "3. $α = 0.05$\n",
        "4. Uji statistik: \n",
        "$$z = \\frac{\\hat{p} - p_0}{\\sqrt{p_0q_0/n}} $$\n",
        "&emsp;&emsp; Dengan critical region:\n",
        "$$ z < -z_{\\alpha/2} \\quad atau \\quad z > z_{\\alpha/2} $$\n",
        "$$ z < -1.96 \\quad atau \\quad z > 1.96 $$\n",
        "5. Dapat dihitung:"
      ]
    },
    {
      "cell_type": "code",
      "execution_count": 8,
      "metadata": {},
      "outputs": [
        {
          "data": {
            "text/markdown": [
              "Diketahui: <br> $p_0 = 0.5$ $&emsp; $q_0 = 0.5$ <br> $n = 1000$ &emsp; $\\hat{p} = 0.512$"
            ],
            "text/plain": [
              "<IPython.core.display.Markdown object>"
            ]
          },
          "metadata": {},
          "output_type": "display_data"
        },
        {
          "data": {
            "text/markdown": [
              "Didapatkan nilai: <br>$z = 0.759 $ <br> $p = 0.4478844782641116 $"
            ],
            "text/plain": [
              "<IPython.core.display.Markdown object>"
            ]
          },
          "metadata": {},
          "output_type": "display_data"
        }
      ],
      "source": [
        "p_0 = 0.5\n",
        "q_0 = 1 - p_0\n",
        "n = df['total sulfur dioxide'].count()\n",
        "p_hat = df.loc[df['total sulfur dioxide'] > 40]['total sulfur dioxide'].count() / n\n",
        "\n",
        "z_value = (p_hat - p_0) * (n ** 0.5) / ((p_0 * q_0) ** 0.5)\n",
        "p_value = 2 * (1 - st.norm.cdf(abs(z_value)))\n",
        "\n",
        "display(Markdown(f\"Diketahui: <br> $p_0 = {p_0}$ $&emsp; $q_0 = {q_0}$ <br> $n = {n}$ &emsp; $\\\\hat{{p}} = {p_hat}$\"))\n",
        "display(Markdown(f\"Didapatkan nilai: <br>$z = {z_value:.3f} $ <br> $p = {p_value} $\"))"
      ]
    },
    {
      "attachments": {},
      "cell_type": "markdown",
      "metadata": {},
      "source": [
        "6. Karena $-z_{\\alpha/2} < z = 0.759 < z_{\\alpha/2}$, $z$ tidak berada di critical section sehingga <u>hipotesis $H_0$ tidak ditolak</u>. \n",
        "<br> Dengan tes signifikan, disimpulkan juga bahwa <u>hipotesis $H_0$ tidak ditolak</u> karena <i>p-value</i> lebih besar dari nilai signifikan yang ditetapkan ($p > 0.05$).\n",
        "<br> Tidak dapat disimpulkan bahwa proporsi nilai total Sulfat Dioxide yang lebih dari 40, adalah tidak sama dengan 50%."
      ]
    }
  ],
  "metadata": {
    "colab": {
      "provenance": []
    },
    "kernelspec": {
      "display_name": "Python 3",
      "name": "python3"
    },
    "language_info": {
      "codemirror_mode": {
        "name": "ipython",
        "version": 3
      },
      "file_extension": ".py",
      "mimetype": "text/x-python",
      "name": "python",
      "nbconvert_exporter": "python",
      "pygments_lexer": "ipython3",
      "version": "3.10.8"
    }
  },
  "nbformat": 4,
  "nbformat_minor": 0
}
